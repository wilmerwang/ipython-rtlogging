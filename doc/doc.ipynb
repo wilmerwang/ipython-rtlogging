{
 "cells": [
  {
   "cell_type": "code",
   "execution_count": 1,
   "id": "eb733770-0b34-426e-b457-57c535ce13e9",
   "metadata": {},
   "outputs": [],
   "source": [
    "import sys\n",
    "import time\n",
    "from tqdm import tqdm"
   ]
  },
  {
   "cell_type": "code",
   "execution_count": 2,
   "id": "a290c78e-3b91-4279-acee-8a407e3800d8",
   "metadata": {},
   "outputs": [],
   "source": [
    "%reload_ext rt_logging"
   ]
  },
  {
   "cell_type": "code",
   "execution_count": 3,
   "id": "4d437548-b47d-4f5f-97fb-dbd2020bd489",
   "metadata": {},
   "outputs": [
    {
     "name": "stdout",
     "output_type": "stream",
     "text": [
      "OUTPUT1: This is stdout msg 0\n"
     ]
    },
    {
     "name": "stderr",
     "output_type": "stream",
     "text": [
      "OUTPUT1: This is stderr msg 0\n"
     ]
    },
    {
     "name": "stdout",
     "output_type": "stream",
     "text": [
      "OUTPUT1: This is stdout msg 1\n",
      "OUTPUT1: This is stdout msg 2\n"
     ]
    },
    {
     "name": "stderr",
     "output_type": "stream",
     "text": [
      "OUTPUT1: This is stderr msg 2\n"
     ]
    },
    {
     "name": "stdout",
     "output_type": "stream",
     "text": [
      "OUTPUT1: This is stdout msg 3\n",
      "OUTPUT1: This is stdout msg 4\n"
     ]
    },
    {
     "name": "stderr",
     "output_type": "stream",
     "text": [
      "OUTPUT1: This is stderr msg 4\n"
     ]
    },
    {
     "name": "stdout",
     "output_type": "stream",
     "text": [
      "OUTPUT1: This is stdout msg 5\n",
      "OUTPUT1: This is stdout msg 6\n"
     ]
    },
    {
     "name": "stderr",
     "output_type": "stream",
     "text": [
      "OUTPUT1: This is stderr msg 6\n"
     ]
    },
    {
     "name": "stdout",
     "output_type": "stream",
     "text": [
      "OUTPUT1: This is stdout msg 7\n",
      "OUTPUT1: This is stdout msg 8\n"
     ]
    },
    {
     "name": "stderr",
     "output_type": "stream",
     "text": [
      "OUTPUT1: This is stderr msg 8\n"
     ]
    },
    {
     "name": "stdout",
     "output_type": "stream",
     "text": [
      "OUTPUT1: This is stdout msg 9\n"
     ]
    }
   ],
   "source": [
    "%%rt_logging output1\n",
    "for i in (range(10)):\n",
    "    time.sleep(0.5)\n",
    "    print(\"OUTPUT1: This is stdout msg {}\".format(i))\n",
    "    if i % 2 == 0:\n",
    "        print(\"OUTPUT1: This is stderr msg {}\".format(i), file=sys.stderr)"
   ]
  },
  {
   "cell_type": "code",
   "execution_count": 4,
   "id": "91ba25d1-1019-4f56-9927-204803672e37",
   "metadata": {},
   "outputs": [
    {
     "name": "stderr",
     "output_type": "stream",
     "text": [
      " 10%|#         | 1/10 [00:00<00:04,  2.00it/s]"
     ]
    },
    {
     "name": "stdout",
     "output_type": "stream",
     "text": [
      "OUTPUT2: This is stdout msg 0\n"
     ]
    },
    {
     "name": "stderr",
     "output_type": "stream",
     "text": [
      " 20%|##        | 2/10 [00:01<00:04,  1.97it/s]"
     ]
    },
    {
     "name": "stdout",
     "output_type": "stream",
     "text": [
      "OUTPUT2: This is stdout msg 1\n"
     ]
    },
    {
     "name": "stderr",
     "output_type": "stream",
     "text": [
      " 30%|###       | 3/10 [00:01<00:03,  1.96it/s]"
     ]
    },
    {
     "name": "stdout",
     "output_type": "stream",
     "text": [
      "OUTPUT2: This is stdout msg 2\n"
     ]
    },
    {
     "name": "stderr",
     "output_type": "stream",
     "text": [
      " 40%|####      | 4/10 [00:02<00:03,  1.96it/s]"
     ]
    },
    {
     "name": "stdout",
     "output_type": "stream",
     "text": [
      "OUTPUT2: This is stdout msg 3\n"
     ]
    },
    {
     "name": "stderr",
     "output_type": "stream",
     "text": [
      " 50%|#####     | 5/10 [00:02<00:02,  1.96it/s]"
     ]
    },
    {
     "name": "stdout",
     "output_type": "stream",
     "text": [
      "OUTPUT2: This is stdout msg 4\n"
     ]
    },
    {
     "name": "stderr",
     "output_type": "stream",
     "text": [
      " 60%|######    | 6/10 [00:03<00:02,  1.96it/s]"
     ]
    },
    {
     "name": "stdout",
     "output_type": "stream",
     "text": [
      "OUTPUT2: This is stdout msg 5\n"
     ]
    },
    {
     "name": "stderr",
     "output_type": "stream",
     "text": [
      " 70%|#######   | 7/10 [00:03<00:01,  1.97it/s]"
     ]
    },
    {
     "name": "stdout",
     "output_type": "stream",
     "text": [
      "OUTPUT2: This is stdout msg 6\n"
     ]
    },
    {
     "name": "stderr",
     "output_type": "stream",
     "text": [
      " 80%|########  | 8/10 [00:04<00:01,  1.97it/s]"
     ]
    },
    {
     "name": "stdout",
     "output_type": "stream",
     "text": [
      "OUTPUT2: This is stdout msg 7\n"
     ]
    },
    {
     "name": "stderr",
     "output_type": "stream",
     "text": [
      " 90%|######### | 9/10 [00:04<00:00,  1.97it/s]"
     ]
    },
    {
     "name": "stdout",
     "output_type": "stream",
     "text": [
      "OUTPUT2: This is stdout msg 8\n"
     ]
    },
    {
     "name": "stderr",
     "output_type": "stream",
     "text": [
      "100%|##########| 10/10 [00:05<00:00,  1.96it/s]"
     ]
    },
    {
     "name": "stdout",
     "output_type": "stream",
     "text": [
      "OUTPUT2: This is stdout msg 9\n"
     ]
    },
    {
     "name": "stderr",
     "output_type": "stream",
     "text": [
      "\n"
     ]
    }
   ],
   "source": [
    "%%rt_logging output2\n",
    "for i in tqdm(range(10)):\n",
    "    time.sleep(0.5)\n",
    "    print('OUTPUT2: This is stdout msg {}'.format(i))"
   ]
  },
  {
   "cell_type": "code",
   "execution_count": 5,
   "id": "2ef4604b-ad61-4540-a702-52b334cec217",
   "metadata": {},
   "outputs": [
    {
     "data": {
      "text/plain": [
       "'output1'"
      ]
     },
     "metadata": {},
     "output_type": "display_data"
    },
    {
     "data": {
      "text/plain": [
       "'output2'"
      ]
     },
     "metadata": {},
     "output_type": "display_data"
    }
   ],
   "source": [
    "%ls_logging"
   ]
  },
  {
   "cell_type": "code",
   "execution_count": 6,
   "id": "f100e2d3-9b1e-4beb-87c2-f622c7f02047",
   "metadata": {},
   "outputs": [
    {
     "data": {
      "text/html": [
       "<h4 style=\"color: red;\">++++++++++ output1 ++++++++++</h4>"
      ],
      "text/plain": [
       "<IPython.core.display.HTML object>"
      ]
     },
     "metadata": {},
     "output_type": "display_data"
    },
    {
     "data": {
      "text/html": [
       "<style>pre { line-height: 125%; }\n",
       "td.linenos .normal { color: inherit; background-color: transparent; padding-left: 5px; padding-right: 5px; }\n",
       "span.linenos { color: inherit; background-color: transparent; padding-left: 5px; padding-right: 5px; }\n",
       "td.linenos .special { color: #000000; background-color: #ffffc0; padding-left: 5px; padding-right: 5px; }\n",
       "span.linenos.special { color: #000000; background-color: #ffffc0; padding-left: 5px; padding-right: 5px; }\n",
       ".output_html .hll { background-color: #ffffcc }\n",
       ".output_html { background: #f8f8f8; }\n",
       ".output_html .c { color: #3D7B7B; font-style: italic } /* Comment */\n",
       ".output_html .err { border: 1px solid #FF0000 } /* Error */\n",
       ".output_html .k { color: #008000; font-weight: bold } /* Keyword */\n",
       ".output_html .o { color: #666666 } /* Operator */\n",
       ".output_html .ch { color: #3D7B7B; font-style: italic } /* Comment.Hashbang */\n",
       ".output_html .cm { color: #3D7B7B; font-style: italic } /* Comment.Multiline */\n",
       ".output_html .cp { color: #9C6500 } /* Comment.Preproc */\n",
       ".output_html .cpf { color: #3D7B7B; font-style: italic } /* Comment.PreprocFile */\n",
       ".output_html .c1 { color: #3D7B7B; font-style: italic } /* Comment.Single */\n",
       ".output_html .cs { color: #3D7B7B; font-style: italic } /* Comment.Special */\n",
       ".output_html .gd { color: #A00000 } /* Generic.Deleted */\n",
       ".output_html .ge { font-style: italic } /* Generic.Emph */\n",
       ".output_html .ges { font-weight: bold; font-style: italic } /* Generic.EmphStrong */\n",
       ".output_html .gr { color: #E40000 } /* Generic.Error */\n",
       ".output_html .gh { color: #000080; font-weight: bold } /* Generic.Heading */\n",
       ".output_html .gi { color: #008400 } /* Generic.Inserted */\n",
       ".output_html .go { color: #717171 } /* Generic.Output */\n",
       ".output_html .gp { color: #000080; font-weight: bold } /* Generic.Prompt */\n",
       ".output_html .gs { font-weight: bold } /* Generic.Strong */\n",
       ".output_html .gu { color: #800080; font-weight: bold } /* Generic.Subheading */\n",
       ".output_html .gt { color: #0044DD } /* Generic.Traceback */\n",
       ".output_html .kc { color: #008000; font-weight: bold } /* Keyword.Constant */\n",
       ".output_html .kd { color: #008000; font-weight: bold } /* Keyword.Declaration */\n",
       ".output_html .kn { color: #008000; font-weight: bold } /* Keyword.Namespace */\n",
       ".output_html .kp { color: #008000 } /* Keyword.Pseudo */\n",
       ".output_html .kr { color: #008000; font-weight: bold } /* Keyword.Reserved */\n",
       ".output_html .kt { color: #B00040 } /* Keyword.Type */\n",
       ".output_html .m { color: #666666 } /* Literal.Number */\n",
       ".output_html .s { color: #BA2121 } /* Literal.String */\n",
       ".output_html .na { color: #687822 } /* Name.Attribute */\n",
       ".output_html .nb { color: #008000 } /* Name.Builtin */\n",
       ".output_html .nc { color: #0000FF; font-weight: bold } /* Name.Class */\n",
       ".output_html .no { color: #880000 } /* Name.Constant */\n",
       ".output_html .nd { color: #AA22FF } /* Name.Decorator */\n",
       ".output_html .ni { color: #717171; font-weight: bold } /* Name.Entity */\n",
       ".output_html .ne { color: #CB3F38; font-weight: bold } /* Name.Exception */\n",
       ".output_html .nf { color: #0000FF } /* Name.Function */\n",
       ".output_html .nl { color: #767600 } /* Name.Label */\n",
       ".output_html .nn { color: #0000FF; font-weight: bold } /* Name.Namespace */\n",
       ".output_html .nt { color: #008000; font-weight: bold } /* Name.Tag */\n",
       ".output_html .nv { color: #19177C } /* Name.Variable */\n",
       ".output_html .ow { color: #AA22FF; font-weight: bold } /* Operator.Word */\n",
       ".output_html .w { color: #bbbbbb } /* Text.Whitespace */\n",
       ".output_html .mb { color: #666666 } /* Literal.Number.Bin */\n",
       ".output_html .mf { color: #666666 } /* Literal.Number.Float */\n",
       ".output_html .mh { color: #666666 } /* Literal.Number.Hex */\n",
       ".output_html .mi { color: #666666 } /* Literal.Number.Integer */\n",
       ".output_html .mo { color: #666666 } /* Literal.Number.Oct */\n",
       ".output_html .sa { color: #BA2121 } /* Literal.String.Affix */\n",
       ".output_html .sb { color: #BA2121 } /* Literal.String.Backtick */\n",
       ".output_html .sc { color: #BA2121 } /* Literal.String.Char */\n",
       ".output_html .dl { color: #BA2121 } /* Literal.String.Delimiter */\n",
       ".output_html .sd { color: #BA2121; font-style: italic } /* Literal.String.Doc */\n",
       ".output_html .s2 { color: #BA2121 } /* Literal.String.Double */\n",
       ".output_html .se { color: #AA5D1F; font-weight: bold } /* Literal.String.Escape */\n",
       ".output_html .sh { color: #BA2121 } /* Literal.String.Heredoc */\n",
       ".output_html .si { color: #A45A77; font-weight: bold } /* Literal.String.Interpol */\n",
       ".output_html .sx { color: #008000 } /* Literal.String.Other */\n",
       ".output_html .sr { color: #A45A77 } /* Literal.String.Regex */\n",
       ".output_html .s1 { color: #BA2121 } /* Literal.String.Single */\n",
       ".output_html .ss { color: #19177C } /* Literal.String.Symbol */\n",
       ".output_html .bp { color: #008000 } /* Name.Builtin.Pseudo */\n",
       ".output_html .fm { color: #0000FF } /* Name.Function.Magic */\n",
       ".output_html .vc { color: #19177C } /* Name.Variable.Class */\n",
       ".output_html .vg { color: #19177C } /* Name.Variable.Global */\n",
       ".output_html .vi { color: #19177C } /* Name.Variable.Instance */\n",
       ".output_html .vm { color: #19177C } /* Name.Variable.Magic */\n",
       ".output_html .il { color: #666666 } /* Literal.Number.Integer.Long */</style><div class=\"highlight\"><pre><span></span><span class=\"k\">for</span><span class=\"w\"> </span><span class=\"nv\">i</span><span class=\"w\"> </span><span class=\"nv\">in</span><span class=\"w\"> </span><span class=\"ss\">(</span><span class=\"nv\">range</span><span class=\"ss\">(</span><span class=\"mi\">10</span><span class=\"ss\">))</span>:\n",
       "<span class=\"w\">    </span><span class=\"nv\">time</span>.<span class=\"nv\">sleep</span><span class=\"ss\">(</span><span class=\"mi\">0</span>.<span class=\"mi\">5</span><span class=\"ss\">)</span>\n",
       "<span class=\"w\">    </span><span class=\"nv\">print</span><span class=\"ss\">(</span><span class=\"s2\">&quot;OUTPUT1: This is stdout msg {}&quot;</span>.<span class=\"nv\">format</span><span class=\"ss\">(</span><span class=\"nv\">i</span><span class=\"ss\">))</span>\n",
       "<span class=\"w\">    </span><span class=\"k\">if</span><span class=\"w\"> </span><span class=\"nv\">i</span><span class=\"w\"> </span><span class=\"o\">%</span><span class=\"w\"> </span><span class=\"mi\">2</span><span class=\"w\"> </span><span class=\"o\">==</span><span class=\"w\"> </span><span class=\"mi\">0</span>:\n",
       "<span class=\"w\">        </span><span class=\"nv\">print</span><span class=\"ss\">(</span><span class=\"s2\">&quot;OUTPUT1: This is stderr msg {}&quot;</span>.<span class=\"nv\">format</span><span class=\"ss\">(</span><span class=\"nv\">i</span><span class=\"ss\">)</span>,<span class=\"w\"> </span><span class=\"nv\">file</span><span class=\"o\">=</span><span class=\"nv\">sys</span>.<span class=\"nv\">stderr</span><span class=\"ss\">)</span>\n",
       "</pre></div>\n"
      ],
      "text/latex": [
       "\\begin{Verbatim}[commandchars=\\\\\\{\\}]\n",
       "\\PY{k}{for}\\PY{+w}{ }\\PY{n+nv}{i}\\PY{+w}{ }\\PY{n+nv}{in}\\PY{+w}{ }\\PY{l+s+ss}{(}\\PY{n+nv}{range}\\PY{l+s+ss}{(}\\PY{l+m+mi}{10}\\PY{l+s+ss}{)}\\PY{l+s+ss}{)}:\n",
       "\\PY{+w}{    }\\PY{n+nv}{time}.\\PY{n+nv}{sleep}\\PY{l+s+ss}{(}\\PY{l+m+mi}{0}.\\PY{l+m+mi}{5}\\PY{l+s+ss}{)}\n",
       "\\PY{+w}{    }\\PY{n+nv}{print}\\PY{l+s+ss}{(}\\PY{l+s+s2}{\\PYZdq{}OUTPUT1: This is stdout msg \\PYZob{}\\PYZcb{}\\PYZdq{}}.\\PY{n+nv}{format}\\PY{l+s+ss}{(}\\PY{n+nv}{i}\\PY{l+s+ss}{)}\\PY{l+s+ss}{)}\n",
       "\\PY{+w}{    }\\PY{k}{if}\\PY{+w}{ }\\PY{n+nv}{i}\\PY{+w}{ }\\PY{o}{\\PYZpc{}}\\PY{+w}{ }\\PY{l+m+mi}{2}\\PY{+w}{ }\\PY{o}{==}\\PY{+w}{ }\\PY{l+m+mi}{0}:\n",
       "\\PY{+w}{        }\\PY{n+nv}{print}\\PY{l+s+ss}{(}\\PY{l+s+s2}{\\PYZdq{}OUTPUT1: This is stderr msg \\PYZob{}\\PYZcb{}\\PYZdq{}}.\\PY{n+nv}{format}\\PY{l+s+ss}{(}\\PY{n+nv}{i}\\PY{l+s+ss}{)},\\PY{+w}{ }\\PY{n+nv}{file}\\PY{o}{=}\\PY{n+nv}{sys}.\\PY{n+nv}{stderr}\\PY{l+s+ss}{)}\n",
       "\\end{Verbatim}\n"
      ],
      "text/plain": [
       "for i in (range(10)):\n",
       "    time.sleep(0.5)\n",
       "    print(\"OUTPUT1: This is stdout msg {}\".format(i))\n",
       "    if i % 2 == 0:\n",
       "        print(\"OUTPUT1: This is stderr msg {}\".format(i), file=sys.stderr)"
      ]
     },
     "metadata": {},
     "output_type": "display_data"
    },
    {
     "data": {
      "text/html": [
       "<h4 style=\"color: red;\">++++++++++ output2 ++++++++++</h4>"
      ],
      "text/plain": [
       "<IPython.core.display.HTML object>"
      ]
     },
     "metadata": {},
     "output_type": "display_data"
    },
    {
     "data": {
      "text/html": [
       "<style>pre { line-height: 125%; }\n",
       "td.linenos .normal { color: inherit; background-color: transparent; padding-left: 5px; padding-right: 5px; }\n",
       "span.linenos { color: inherit; background-color: transparent; padding-left: 5px; padding-right: 5px; }\n",
       "td.linenos .special { color: #000000; background-color: #ffffc0; padding-left: 5px; padding-right: 5px; }\n",
       "span.linenos.special { color: #000000; background-color: #ffffc0; padding-left: 5px; padding-right: 5px; }\n",
       ".output_html .hll { background-color: #ffffcc }\n",
       ".output_html { background: #f8f8f8; }\n",
       ".output_html .c { color: #3D7B7B; font-style: italic } /* Comment */\n",
       ".output_html .err { border: 1px solid #FF0000 } /* Error */\n",
       ".output_html .k { color: #008000; font-weight: bold } /* Keyword */\n",
       ".output_html .o { color: #666666 } /* Operator */\n",
       ".output_html .ch { color: #3D7B7B; font-style: italic } /* Comment.Hashbang */\n",
       ".output_html .cm { color: #3D7B7B; font-style: italic } /* Comment.Multiline */\n",
       ".output_html .cp { color: #9C6500 } /* Comment.Preproc */\n",
       ".output_html .cpf { color: #3D7B7B; font-style: italic } /* Comment.PreprocFile */\n",
       ".output_html .c1 { color: #3D7B7B; font-style: italic } /* Comment.Single */\n",
       ".output_html .cs { color: #3D7B7B; font-style: italic } /* Comment.Special */\n",
       ".output_html .gd { color: #A00000 } /* Generic.Deleted */\n",
       ".output_html .ge { font-style: italic } /* Generic.Emph */\n",
       ".output_html .ges { font-weight: bold; font-style: italic } /* Generic.EmphStrong */\n",
       ".output_html .gr { color: #E40000 } /* Generic.Error */\n",
       ".output_html .gh { color: #000080; font-weight: bold } /* Generic.Heading */\n",
       ".output_html .gi { color: #008400 } /* Generic.Inserted */\n",
       ".output_html .go { color: #717171 } /* Generic.Output */\n",
       ".output_html .gp { color: #000080; font-weight: bold } /* Generic.Prompt */\n",
       ".output_html .gs { font-weight: bold } /* Generic.Strong */\n",
       ".output_html .gu { color: #800080; font-weight: bold } /* Generic.Subheading */\n",
       ".output_html .gt { color: #0044DD } /* Generic.Traceback */\n",
       ".output_html .kc { color: #008000; font-weight: bold } /* Keyword.Constant */\n",
       ".output_html .kd { color: #008000; font-weight: bold } /* Keyword.Declaration */\n",
       ".output_html .kn { color: #008000; font-weight: bold } /* Keyword.Namespace */\n",
       ".output_html .kp { color: #008000 } /* Keyword.Pseudo */\n",
       ".output_html .kr { color: #008000; font-weight: bold } /* Keyword.Reserved */\n",
       ".output_html .kt { color: #B00040 } /* Keyword.Type */\n",
       ".output_html .m { color: #666666 } /* Literal.Number */\n",
       ".output_html .s { color: #BA2121 } /* Literal.String */\n",
       ".output_html .na { color: #687822 } /* Name.Attribute */\n",
       ".output_html .nb { color: #008000 } /* Name.Builtin */\n",
       ".output_html .nc { color: #0000FF; font-weight: bold } /* Name.Class */\n",
       ".output_html .no { color: #880000 } /* Name.Constant */\n",
       ".output_html .nd { color: #AA22FF } /* Name.Decorator */\n",
       ".output_html .ni { color: #717171; font-weight: bold } /* Name.Entity */\n",
       ".output_html .ne { color: #CB3F38; font-weight: bold } /* Name.Exception */\n",
       ".output_html .nf { color: #0000FF } /* Name.Function */\n",
       ".output_html .nl { color: #767600 } /* Name.Label */\n",
       ".output_html .nn { color: #0000FF; font-weight: bold } /* Name.Namespace */\n",
       ".output_html .nt { color: #008000; font-weight: bold } /* Name.Tag */\n",
       ".output_html .nv { color: #19177C } /* Name.Variable */\n",
       ".output_html .ow { color: #AA22FF; font-weight: bold } /* Operator.Word */\n",
       ".output_html .w { color: #bbbbbb } /* Text.Whitespace */\n",
       ".output_html .mb { color: #666666 } /* Literal.Number.Bin */\n",
       ".output_html .mf { color: #666666 } /* Literal.Number.Float */\n",
       ".output_html .mh { color: #666666 } /* Literal.Number.Hex */\n",
       ".output_html .mi { color: #666666 } /* Literal.Number.Integer */\n",
       ".output_html .mo { color: #666666 } /* Literal.Number.Oct */\n",
       ".output_html .sa { color: #BA2121 } /* Literal.String.Affix */\n",
       ".output_html .sb { color: #BA2121 } /* Literal.String.Backtick */\n",
       ".output_html .sc { color: #BA2121 } /* Literal.String.Char */\n",
       ".output_html .dl { color: #BA2121 } /* Literal.String.Delimiter */\n",
       ".output_html .sd { color: #BA2121; font-style: italic } /* Literal.String.Doc */\n",
       ".output_html .s2 { color: #BA2121 } /* Literal.String.Double */\n",
       ".output_html .se { color: #AA5D1F; font-weight: bold } /* Literal.String.Escape */\n",
       ".output_html .sh { color: #BA2121 } /* Literal.String.Heredoc */\n",
       ".output_html .si { color: #A45A77; font-weight: bold } /* Literal.String.Interpol */\n",
       ".output_html .sx { color: #008000 } /* Literal.String.Other */\n",
       ".output_html .sr { color: #A45A77 } /* Literal.String.Regex */\n",
       ".output_html .s1 { color: #BA2121 } /* Literal.String.Single */\n",
       ".output_html .ss { color: #19177C } /* Literal.String.Symbol */\n",
       ".output_html .bp { color: #008000 } /* Name.Builtin.Pseudo */\n",
       ".output_html .fm { color: #0000FF } /* Name.Function.Magic */\n",
       ".output_html .vc { color: #19177C } /* Name.Variable.Class */\n",
       ".output_html .vg { color: #19177C } /* Name.Variable.Global */\n",
       ".output_html .vi { color: #19177C } /* Name.Variable.Instance */\n",
       ".output_html .vm { color: #19177C } /* Name.Variable.Magic */\n",
       ".output_html .il { color: #666666 } /* Literal.Number.Integer.Long */</style><div class=\"highlight\"><pre><span></span><span class=\"k\">for</span><span class=\"w\"> </span><span class=\"nv\">i</span><span class=\"w\"> </span><span class=\"nv\">in</span><span class=\"w\"> </span><span class=\"nv\">tqdm</span><span class=\"ss\">(</span><span class=\"nv\">range</span><span class=\"ss\">(</span><span class=\"mi\">10</span><span class=\"ss\">))</span>:\n",
       "<span class=\"w\">    </span><span class=\"nv\">time</span>.<span class=\"nv\">sleep</span><span class=\"ss\">(</span><span class=\"mi\">0</span>.<span class=\"mi\">5</span><span class=\"ss\">)</span>\n",
       "<span class=\"w\">    </span><span class=\"nv\">print</span><span class=\"ss\">(</span><span class=\"s1\">&#39;OUTPUT2: This is stdout msg {}&#39;</span>.<span class=\"nv\">format</span><span class=\"ss\">(</span><span class=\"nv\">i</span><span class=\"ss\">))</span>\n",
       "</pre></div>\n"
      ],
      "text/latex": [
       "\\begin{Verbatim}[commandchars=\\\\\\{\\}]\n",
       "\\PY{k}{for}\\PY{+w}{ }\\PY{n+nv}{i}\\PY{+w}{ }\\PY{n+nv}{in}\\PY{+w}{ }\\PY{n+nv}{tqdm}\\PY{l+s+ss}{(}\\PY{n+nv}{range}\\PY{l+s+ss}{(}\\PY{l+m+mi}{10}\\PY{l+s+ss}{)}\\PY{l+s+ss}{)}:\n",
       "\\PY{+w}{    }\\PY{n+nv}{time}.\\PY{n+nv}{sleep}\\PY{l+s+ss}{(}\\PY{l+m+mi}{0}.\\PY{l+m+mi}{5}\\PY{l+s+ss}{)}\n",
       "\\PY{+w}{    }\\PY{n+nv}{print}\\PY{l+s+ss}{(}\\PY{l+s+s1}{\\PYZsq{}OUTPUT2: This is stdout msg \\PYZob{}\\PYZcb{}\\PYZsq{}}.\\PY{n+nv}{format}\\PY{l+s+ss}{(}\\PY{n+nv}{i}\\PY{l+s+ss}{)}\\PY{l+s+ss}{)}\n",
       "\\end{Verbatim}\n"
      ],
      "text/plain": [
       "for i in tqdm(range(10)):\n",
       "    time.sleep(0.5)\n",
       "    print('OUTPUT2: This is stdout msg {}'.format(i))"
      ]
     },
     "metadata": {},
     "output_type": "display_data"
    }
   ],
   "source": [
    "%ls_logging --ll"
   ]
  },
  {
   "cell_type": "code",
   "execution_count": 7,
   "id": "d68cc5bb-a646-4b24-a0b5-f8e24b28aad5",
   "metadata": {},
   "outputs": [
    {
     "name": "stdout",
     "output_type": "stream",
     "text": [
      "output1.stderr\n",
      "output1.stdout\n",
      "output2.stderr\n",
      "output2.stdout\n"
     ]
    }
   ],
   "source": [
    "!ls | grep output"
   ]
  },
  {
   "cell_type": "code",
   "execution_count": 8,
   "id": "71d37690-05e4-47b6-828c-9c384baec9f3",
   "metadata": {},
   "outputs": [
    {
     "data": {
      "text/html": [
       "<h4 style=\"color: red;\">++++++++++ output1  code ++++++++++</h4>"
      ],
      "text/plain": [
       "<IPython.core.display.HTML object>"
      ]
     },
     "metadata": {},
     "output_type": "display_data"
    },
    {
     "data": {
      "text/html": [
       "<style>pre { line-height: 125%; }\n",
       "td.linenos .normal { color: inherit; background-color: transparent; padding-left: 5px; padding-right: 5px; }\n",
       "span.linenos { color: inherit; background-color: transparent; padding-left: 5px; padding-right: 5px; }\n",
       "td.linenos .special { color: #000000; background-color: #ffffc0; padding-left: 5px; padding-right: 5px; }\n",
       "span.linenos.special { color: #000000; background-color: #ffffc0; padding-left: 5px; padding-right: 5px; }\n",
       ".output_html .hll { background-color: #ffffcc }\n",
       ".output_html { background: #f8f8f8; }\n",
       ".output_html .c { color: #3D7B7B; font-style: italic } /* Comment */\n",
       ".output_html .err { border: 1px solid #FF0000 } /* Error */\n",
       ".output_html .k { color: #008000; font-weight: bold } /* Keyword */\n",
       ".output_html .o { color: #666666 } /* Operator */\n",
       ".output_html .ch { color: #3D7B7B; font-style: italic } /* Comment.Hashbang */\n",
       ".output_html .cm { color: #3D7B7B; font-style: italic } /* Comment.Multiline */\n",
       ".output_html .cp { color: #9C6500 } /* Comment.Preproc */\n",
       ".output_html .cpf { color: #3D7B7B; font-style: italic } /* Comment.PreprocFile */\n",
       ".output_html .c1 { color: #3D7B7B; font-style: italic } /* Comment.Single */\n",
       ".output_html .cs { color: #3D7B7B; font-style: italic } /* Comment.Special */\n",
       ".output_html .gd { color: #A00000 } /* Generic.Deleted */\n",
       ".output_html .ge { font-style: italic } /* Generic.Emph */\n",
       ".output_html .ges { font-weight: bold; font-style: italic } /* Generic.EmphStrong */\n",
       ".output_html .gr { color: #E40000 } /* Generic.Error */\n",
       ".output_html .gh { color: #000080; font-weight: bold } /* Generic.Heading */\n",
       ".output_html .gi { color: #008400 } /* Generic.Inserted */\n",
       ".output_html .go { color: #717171 } /* Generic.Output */\n",
       ".output_html .gp { color: #000080; font-weight: bold } /* Generic.Prompt */\n",
       ".output_html .gs { font-weight: bold } /* Generic.Strong */\n",
       ".output_html .gu { color: #800080; font-weight: bold } /* Generic.Subheading */\n",
       ".output_html .gt { color: #0044DD } /* Generic.Traceback */\n",
       ".output_html .kc { color: #008000; font-weight: bold } /* Keyword.Constant */\n",
       ".output_html .kd { color: #008000; font-weight: bold } /* Keyword.Declaration */\n",
       ".output_html .kn { color: #008000; font-weight: bold } /* Keyword.Namespace */\n",
       ".output_html .kp { color: #008000 } /* Keyword.Pseudo */\n",
       ".output_html .kr { color: #008000; font-weight: bold } /* Keyword.Reserved */\n",
       ".output_html .kt { color: #B00040 } /* Keyword.Type */\n",
       ".output_html .m { color: #666666 } /* Literal.Number */\n",
       ".output_html .s { color: #BA2121 } /* Literal.String */\n",
       ".output_html .na { color: #687822 } /* Name.Attribute */\n",
       ".output_html .nb { color: #008000 } /* Name.Builtin */\n",
       ".output_html .nc { color: #0000FF; font-weight: bold } /* Name.Class */\n",
       ".output_html .no { color: #880000 } /* Name.Constant */\n",
       ".output_html .nd { color: #AA22FF } /* Name.Decorator */\n",
       ".output_html .ni { color: #717171; font-weight: bold } /* Name.Entity */\n",
       ".output_html .ne { color: #CB3F38; font-weight: bold } /* Name.Exception */\n",
       ".output_html .nf { color: #0000FF } /* Name.Function */\n",
       ".output_html .nl { color: #767600 } /* Name.Label */\n",
       ".output_html .nn { color: #0000FF; font-weight: bold } /* Name.Namespace */\n",
       ".output_html .nt { color: #008000; font-weight: bold } /* Name.Tag */\n",
       ".output_html .nv { color: #19177C } /* Name.Variable */\n",
       ".output_html .ow { color: #AA22FF; font-weight: bold } /* Operator.Word */\n",
       ".output_html .w { color: #bbbbbb } /* Text.Whitespace */\n",
       ".output_html .mb { color: #666666 } /* Literal.Number.Bin */\n",
       ".output_html .mf { color: #666666 } /* Literal.Number.Float */\n",
       ".output_html .mh { color: #666666 } /* Literal.Number.Hex */\n",
       ".output_html .mi { color: #666666 } /* Literal.Number.Integer */\n",
       ".output_html .mo { color: #666666 } /* Literal.Number.Oct */\n",
       ".output_html .sa { color: #BA2121 } /* Literal.String.Affix */\n",
       ".output_html .sb { color: #BA2121 } /* Literal.String.Backtick */\n",
       ".output_html .sc { color: #BA2121 } /* Literal.String.Char */\n",
       ".output_html .dl { color: #BA2121 } /* Literal.String.Delimiter */\n",
       ".output_html .sd { color: #BA2121; font-style: italic } /* Literal.String.Doc */\n",
       ".output_html .s2 { color: #BA2121 } /* Literal.String.Double */\n",
       ".output_html .se { color: #AA5D1F; font-weight: bold } /* Literal.String.Escape */\n",
       ".output_html .sh { color: #BA2121 } /* Literal.String.Heredoc */\n",
       ".output_html .si { color: #A45A77; font-weight: bold } /* Literal.String.Interpol */\n",
       ".output_html .sx { color: #008000 } /* Literal.String.Other */\n",
       ".output_html .sr { color: #A45A77 } /* Literal.String.Regex */\n",
       ".output_html .s1 { color: #BA2121 } /* Literal.String.Single */\n",
       ".output_html .ss { color: #19177C } /* Literal.String.Symbol */\n",
       ".output_html .bp { color: #008000 } /* Name.Builtin.Pseudo */\n",
       ".output_html .fm { color: #0000FF } /* Name.Function.Magic */\n",
       ".output_html .vc { color: #19177C } /* Name.Variable.Class */\n",
       ".output_html .vg { color: #19177C } /* Name.Variable.Global */\n",
       ".output_html .vi { color: #19177C } /* Name.Variable.Instance */\n",
       ".output_html .vm { color: #19177C } /* Name.Variable.Magic */\n",
       ".output_html .il { color: #666666 } /* Literal.Number.Integer.Long */</style><div class=\"highlight\"><pre><span></span><span class=\"k\">for</span><span class=\"w\"> </span><span class=\"nv\">i</span><span class=\"w\"> </span><span class=\"nv\">in</span><span class=\"w\"> </span><span class=\"ss\">(</span><span class=\"nv\">range</span><span class=\"ss\">(</span><span class=\"mi\">10</span><span class=\"ss\">))</span>:\n",
       "<span class=\"w\">    </span><span class=\"nv\">time</span>.<span class=\"nv\">sleep</span><span class=\"ss\">(</span><span class=\"mi\">0</span>.<span class=\"mi\">5</span><span class=\"ss\">)</span>\n",
       "<span class=\"w\">    </span><span class=\"nv\">print</span><span class=\"ss\">(</span><span class=\"s2\">&quot;OUTPUT1: This is stdout msg {}&quot;</span>.<span class=\"nv\">format</span><span class=\"ss\">(</span><span class=\"nv\">i</span><span class=\"ss\">))</span>\n",
       "<span class=\"w\">    </span><span class=\"k\">if</span><span class=\"w\"> </span><span class=\"nv\">i</span><span class=\"w\"> </span><span class=\"o\">%</span><span class=\"w\"> </span><span class=\"mi\">2</span><span class=\"w\"> </span><span class=\"o\">==</span><span class=\"w\"> </span><span class=\"mi\">0</span>:\n",
       "<span class=\"w\">        </span><span class=\"nv\">print</span><span class=\"ss\">(</span><span class=\"s2\">&quot;OUTPUT1: This is stderr msg {}&quot;</span>.<span class=\"nv\">format</span><span class=\"ss\">(</span><span class=\"nv\">i</span><span class=\"ss\">)</span>,<span class=\"w\"> </span><span class=\"nv\">file</span><span class=\"o\">=</span><span class=\"nv\">sys</span>.<span class=\"nv\">stderr</span><span class=\"ss\">)</span>\n",
       "</pre></div>\n"
      ],
      "text/latex": [
       "\\begin{Verbatim}[commandchars=\\\\\\{\\}]\n",
       "\\PY{k}{for}\\PY{+w}{ }\\PY{n+nv}{i}\\PY{+w}{ }\\PY{n+nv}{in}\\PY{+w}{ }\\PY{l+s+ss}{(}\\PY{n+nv}{range}\\PY{l+s+ss}{(}\\PY{l+m+mi}{10}\\PY{l+s+ss}{)}\\PY{l+s+ss}{)}:\n",
       "\\PY{+w}{    }\\PY{n+nv}{time}.\\PY{n+nv}{sleep}\\PY{l+s+ss}{(}\\PY{l+m+mi}{0}.\\PY{l+m+mi}{5}\\PY{l+s+ss}{)}\n",
       "\\PY{+w}{    }\\PY{n+nv}{print}\\PY{l+s+ss}{(}\\PY{l+s+s2}{\\PYZdq{}OUTPUT1: This is stdout msg \\PYZob{}\\PYZcb{}\\PYZdq{}}.\\PY{n+nv}{format}\\PY{l+s+ss}{(}\\PY{n+nv}{i}\\PY{l+s+ss}{)}\\PY{l+s+ss}{)}\n",
       "\\PY{+w}{    }\\PY{k}{if}\\PY{+w}{ }\\PY{n+nv}{i}\\PY{+w}{ }\\PY{o}{\\PYZpc{}}\\PY{+w}{ }\\PY{l+m+mi}{2}\\PY{+w}{ }\\PY{o}{==}\\PY{+w}{ }\\PY{l+m+mi}{0}:\n",
       "\\PY{+w}{        }\\PY{n+nv}{print}\\PY{l+s+ss}{(}\\PY{l+s+s2}{\\PYZdq{}OUTPUT1: This is stderr msg \\PYZob{}\\PYZcb{}\\PYZdq{}}.\\PY{n+nv}{format}\\PY{l+s+ss}{(}\\PY{n+nv}{i}\\PY{l+s+ss}{)},\\PY{+w}{ }\\PY{n+nv}{file}\\PY{o}{=}\\PY{n+nv}{sys}.\\PY{n+nv}{stderr}\\PY{l+s+ss}{)}\n",
       "\\end{Verbatim}\n"
      ],
      "text/plain": [
       "for i in (range(10)):\n",
       "    time.sleep(0.5)\n",
       "    print(\"OUTPUT1: This is stdout msg {}\".format(i))\n",
       "    if i % 2 == 0:\n",
       "        print(\"OUTPUT1: This is stderr msg {}\".format(i), file=sys.stderr)"
      ]
     },
     "metadata": {},
     "output_type": "display_data"
    },
    {
     "data": {
      "text/html": [
       "<h5 style=\"color: green;\">============ output1.stderr ============</h5>"
      ],
      "text/plain": [
       "<IPython.core.display.HTML object>"
      ]
     },
     "metadata": {},
     "output_type": "display_data"
    },
    {
     "name": "stdout",
     "output_type": "stream",
     "text": [
      "OUTPUT1: This is stderr msg 0\n",
      "OUTPUT1: This is stderr msg 2\n",
      "OUTPUT1: This is stderr msg 4\n",
      "OUTPUT1: This is stderr msg 6\n",
      "OUTPUT1: This is stderr msg 8\n",
      "\n"
     ]
    },
    {
     "data": {
      "text/html": [
       "<h5 style=\"color: green;\">============ output1.stdout ============</h5>"
      ],
      "text/plain": [
       "<IPython.core.display.HTML object>"
      ]
     },
     "metadata": {},
     "output_type": "display_data"
    },
    {
     "name": "stdout",
     "output_type": "stream",
     "text": [
      "OUTPUT1: This is stdout msg 0\n",
      "OUTPUT1: This is stdout msg 1\n",
      "OUTPUT1: This is stdout msg 2\n",
      "OUTPUT1: This is stdout msg 3\n",
      "OUTPUT1: This is stdout msg 4\n",
      "OUTPUT1: This is stdout msg 5\n",
      "OUTPUT1: This is stdout msg 6\n",
      "OUTPUT1: This is stdout msg 7\n",
      "OUTPUT1: This is stdout msg 8\n",
      "OUTPUT1: This is stdout msg 9\n",
      "\n"
     ]
    },
    {
     "data": {
      "text/html": [
       "<h4 style=\"color: red;\">++++++++++ output2  code ++++++++++</h4>"
      ],
      "text/plain": [
       "<IPython.core.display.HTML object>"
      ]
     },
     "metadata": {},
     "output_type": "display_data"
    },
    {
     "data": {
      "text/html": [
       "<style>pre { line-height: 125%; }\n",
       "td.linenos .normal { color: inherit; background-color: transparent; padding-left: 5px; padding-right: 5px; }\n",
       "span.linenos { color: inherit; background-color: transparent; padding-left: 5px; padding-right: 5px; }\n",
       "td.linenos .special { color: #000000; background-color: #ffffc0; padding-left: 5px; padding-right: 5px; }\n",
       "span.linenos.special { color: #000000; background-color: #ffffc0; padding-left: 5px; padding-right: 5px; }\n",
       ".output_html .hll { background-color: #ffffcc }\n",
       ".output_html { background: #f8f8f8; }\n",
       ".output_html .c { color: #3D7B7B; font-style: italic } /* Comment */\n",
       ".output_html .err { border: 1px solid #FF0000 } /* Error */\n",
       ".output_html .k { color: #008000; font-weight: bold } /* Keyword */\n",
       ".output_html .o { color: #666666 } /* Operator */\n",
       ".output_html .ch { color: #3D7B7B; font-style: italic } /* Comment.Hashbang */\n",
       ".output_html .cm { color: #3D7B7B; font-style: italic } /* Comment.Multiline */\n",
       ".output_html .cp { color: #9C6500 } /* Comment.Preproc */\n",
       ".output_html .cpf { color: #3D7B7B; font-style: italic } /* Comment.PreprocFile */\n",
       ".output_html .c1 { color: #3D7B7B; font-style: italic } /* Comment.Single */\n",
       ".output_html .cs { color: #3D7B7B; font-style: italic } /* Comment.Special */\n",
       ".output_html .gd { color: #A00000 } /* Generic.Deleted */\n",
       ".output_html .ge { font-style: italic } /* Generic.Emph */\n",
       ".output_html .ges { font-weight: bold; font-style: italic } /* Generic.EmphStrong */\n",
       ".output_html .gr { color: #E40000 } /* Generic.Error */\n",
       ".output_html .gh { color: #000080; font-weight: bold } /* Generic.Heading */\n",
       ".output_html .gi { color: #008400 } /* Generic.Inserted */\n",
       ".output_html .go { color: #717171 } /* Generic.Output */\n",
       ".output_html .gp { color: #000080; font-weight: bold } /* Generic.Prompt */\n",
       ".output_html .gs { font-weight: bold } /* Generic.Strong */\n",
       ".output_html .gu { color: #800080; font-weight: bold } /* Generic.Subheading */\n",
       ".output_html .gt { color: #0044DD } /* Generic.Traceback */\n",
       ".output_html .kc { color: #008000; font-weight: bold } /* Keyword.Constant */\n",
       ".output_html .kd { color: #008000; font-weight: bold } /* Keyword.Declaration */\n",
       ".output_html .kn { color: #008000; font-weight: bold } /* Keyword.Namespace */\n",
       ".output_html .kp { color: #008000 } /* Keyword.Pseudo */\n",
       ".output_html .kr { color: #008000; font-weight: bold } /* Keyword.Reserved */\n",
       ".output_html .kt { color: #B00040 } /* Keyword.Type */\n",
       ".output_html .m { color: #666666 } /* Literal.Number */\n",
       ".output_html .s { color: #BA2121 } /* Literal.String */\n",
       ".output_html .na { color: #687822 } /* Name.Attribute */\n",
       ".output_html .nb { color: #008000 } /* Name.Builtin */\n",
       ".output_html .nc { color: #0000FF; font-weight: bold } /* Name.Class */\n",
       ".output_html .no { color: #880000 } /* Name.Constant */\n",
       ".output_html .nd { color: #AA22FF } /* Name.Decorator */\n",
       ".output_html .ni { color: #717171; font-weight: bold } /* Name.Entity */\n",
       ".output_html .ne { color: #CB3F38; font-weight: bold } /* Name.Exception */\n",
       ".output_html .nf { color: #0000FF } /* Name.Function */\n",
       ".output_html .nl { color: #767600 } /* Name.Label */\n",
       ".output_html .nn { color: #0000FF; font-weight: bold } /* Name.Namespace */\n",
       ".output_html .nt { color: #008000; font-weight: bold } /* Name.Tag */\n",
       ".output_html .nv { color: #19177C } /* Name.Variable */\n",
       ".output_html .ow { color: #AA22FF; font-weight: bold } /* Operator.Word */\n",
       ".output_html .w { color: #bbbbbb } /* Text.Whitespace */\n",
       ".output_html .mb { color: #666666 } /* Literal.Number.Bin */\n",
       ".output_html .mf { color: #666666 } /* Literal.Number.Float */\n",
       ".output_html .mh { color: #666666 } /* Literal.Number.Hex */\n",
       ".output_html .mi { color: #666666 } /* Literal.Number.Integer */\n",
       ".output_html .mo { color: #666666 } /* Literal.Number.Oct */\n",
       ".output_html .sa { color: #BA2121 } /* Literal.String.Affix */\n",
       ".output_html .sb { color: #BA2121 } /* Literal.String.Backtick */\n",
       ".output_html .sc { color: #BA2121 } /* Literal.String.Char */\n",
       ".output_html .dl { color: #BA2121 } /* Literal.String.Delimiter */\n",
       ".output_html .sd { color: #BA2121; font-style: italic } /* Literal.String.Doc */\n",
       ".output_html .s2 { color: #BA2121 } /* Literal.String.Double */\n",
       ".output_html .se { color: #AA5D1F; font-weight: bold } /* Literal.String.Escape */\n",
       ".output_html .sh { color: #BA2121 } /* Literal.String.Heredoc */\n",
       ".output_html .si { color: #A45A77; font-weight: bold } /* Literal.String.Interpol */\n",
       ".output_html .sx { color: #008000 } /* Literal.String.Other */\n",
       ".output_html .sr { color: #A45A77 } /* Literal.String.Regex */\n",
       ".output_html .s1 { color: #BA2121 } /* Literal.String.Single */\n",
       ".output_html .ss { color: #19177C } /* Literal.String.Symbol */\n",
       ".output_html .bp { color: #008000 } /* Name.Builtin.Pseudo */\n",
       ".output_html .fm { color: #0000FF } /* Name.Function.Magic */\n",
       ".output_html .vc { color: #19177C } /* Name.Variable.Class */\n",
       ".output_html .vg { color: #19177C } /* Name.Variable.Global */\n",
       ".output_html .vi { color: #19177C } /* Name.Variable.Instance */\n",
       ".output_html .vm { color: #19177C } /* Name.Variable.Magic */\n",
       ".output_html .il { color: #666666 } /* Literal.Number.Integer.Long */</style><div class=\"highlight\"><pre><span></span><span class=\"k\">for</span><span class=\"w\"> </span><span class=\"nv\">i</span><span class=\"w\"> </span><span class=\"nv\">in</span><span class=\"w\"> </span><span class=\"nv\">tqdm</span><span class=\"ss\">(</span><span class=\"nv\">range</span><span class=\"ss\">(</span><span class=\"mi\">10</span><span class=\"ss\">))</span>:\n",
       "<span class=\"w\">    </span><span class=\"nv\">time</span>.<span class=\"nv\">sleep</span><span class=\"ss\">(</span><span class=\"mi\">0</span>.<span class=\"mi\">5</span><span class=\"ss\">)</span>\n",
       "<span class=\"w\">    </span><span class=\"nv\">print</span><span class=\"ss\">(</span><span class=\"s1\">&#39;OUTPUT2: This is stdout msg {}&#39;</span>.<span class=\"nv\">format</span><span class=\"ss\">(</span><span class=\"nv\">i</span><span class=\"ss\">))</span>\n",
       "</pre></div>\n"
      ],
      "text/latex": [
       "\\begin{Verbatim}[commandchars=\\\\\\{\\}]\n",
       "\\PY{k}{for}\\PY{+w}{ }\\PY{n+nv}{i}\\PY{+w}{ }\\PY{n+nv}{in}\\PY{+w}{ }\\PY{n+nv}{tqdm}\\PY{l+s+ss}{(}\\PY{n+nv}{range}\\PY{l+s+ss}{(}\\PY{l+m+mi}{10}\\PY{l+s+ss}{)}\\PY{l+s+ss}{)}:\n",
       "\\PY{+w}{    }\\PY{n+nv}{time}.\\PY{n+nv}{sleep}\\PY{l+s+ss}{(}\\PY{l+m+mi}{0}.\\PY{l+m+mi}{5}\\PY{l+s+ss}{)}\n",
       "\\PY{+w}{    }\\PY{n+nv}{print}\\PY{l+s+ss}{(}\\PY{l+s+s1}{\\PYZsq{}OUTPUT2: This is stdout msg \\PYZob{}\\PYZcb{}\\PYZsq{}}.\\PY{n+nv}{format}\\PY{l+s+ss}{(}\\PY{n+nv}{i}\\PY{l+s+ss}{)}\\PY{l+s+ss}{)}\n",
       "\\end{Verbatim}\n"
      ],
      "text/plain": [
       "for i in tqdm(range(10)):\n",
       "    time.sleep(0.5)\n",
       "    print('OUTPUT2: This is stdout msg {}'.format(i))"
      ]
     },
     "metadata": {},
     "output_type": "display_data"
    },
    {
     "data": {
      "text/html": [
       "<h5 style=\"color: green;\">============ output2.stderr ============</h5>"
      ],
      "text/plain": [
       "<IPython.core.display.HTML object>"
      ]
     },
     "metadata": {},
     "output_type": "display_data"
    },
    {
     "name": "stdout",
     "output_type": "stream",
     "text": [
      "\n",
      "  0%|          | 0/10 [00:00<?, ?it/s]\n",
      " 10%|#         | 1/10 [00:00<00:04,  2.00it/s]\n",
      " 20%|##        | 2/10 [00:01<00:04,  1.97it/s]\n",
      " 30%|###       | 3/10 [00:01<00:03,  1.96it/s]\n",
      " 40%|####      | 4/10 [00:02<00:03,  1.96it/s]\n",
      " 50%|#####     | 5/10 [00:02<00:02,  1.96it/s]\n",
      " 60%|######    | 6/10 [00:03<00:02,  1.96it/s]\n",
      " 70%|#######   | 7/10 [00:03<00:01,  1.97it/s]\n",
      " 80%|########  | 8/10 [00:04<00:01,  1.97it/s]\n",
      " 90%|######### | 9/10 [00:04<00:00,  1.97it/s]\n",
      "100%|##########| 10/10 [00:05<00:00,  1.97it/s]\n",
      "100%|##########| 10/10 [00:05<00:00,  1.96it/s]\n",
      "\n"
     ]
    },
    {
     "data": {
      "text/html": [
       "<h5 style=\"color: green;\">============ output2.stdout ============</h5>"
      ],
      "text/plain": [
       "<IPython.core.display.HTML object>"
      ]
     },
     "metadata": {},
     "output_type": "display_data"
    },
    {
     "name": "stdout",
     "output_type": "stream",
     "text": [
      "OUTPUT2: This is stdout msg 0\n",
      "OUTPUT2: This is stdout msg 1\n",
      "OUTPUT2: This is stdout msg 2\n",
      "OUTPUT2: This is stdout msg 3\n",
      "OUTPUT2: This is stdout msg 4\n",
      "OUTPUT2: This is stdout msg 5\n",
      "OUTPUT2: This is stdout msg 6\n",
      "OUTPUT2: This is stdout msg 7\n",
      "OUTPUT2: This is stdout msg 8\n",
      "OUTPUT2: This is stdout msg 9\n",
      "\n"
     ]
    }
   ],
   "source": [
    "%load_logging \n",
    "# %load_logging --name output1\n",
    "# %load_logging --name output2\n",
    "# %load_logging --name output1 output2"
   ]
  },
  {
   "cell_type": "code",
   "execution_count": 9,
   "id": "b31bef3c-2a9e-4e7b-8d87-16b3b35948db",
   "metadata": {},
   "outputs": [],
   "source": [
    "# %rm_logging \n",
    "# %rm_logging --name output1\n",
    "%rm_logging --name output2\n",
    "# %rm_logging --name output1 output2"
   ]
  },
  {
   "cell_type": "code",
   "execution_count": 10,
   "id": "c1c6285e-ceaa-45f4-b6ad-81849aa9a7ef",
   "metadata": {},
   "outputs": [
    {
     "data": {
      "text/plain": [
       "'output1'"
      ]
     },
     "metadata": {},
     "output_type": "display_data"
    }
   ],
   "source": [
    "%ls_logging"
   ]
  },
  {
   "cell_type": "code",
   "execution_count": 11,
   "id": "56bddf2d-ed83-4614-91ec-c20022cbd1b8",
   "metadata": {},
   "outputs": [
    {
     "name": "stdout",
     "output_type": "stream",
     "text": [
      "output1.stderr\n",
      "output1.stdout\n"
     ]
    }
   ],
   "source": [
    "!ls | grep output"
   ]
  },
  {
   "cell_type": "code",
   "execution_count": 12,
   "id": "681fc0b4-0c1f-4446-b156-1ed1947a5d60",
   "metadata": {},
   "outputs": [],
   "source": [
    "%rm_logging"
   ]
  },
  {
   "cell_type": "code",
   "execution_count": 13,
   "id": "d9f72a6c-e435-4966-91c7-351955f8323a",
   "metadata": {},
   "outputs": [],
   "source": [
    "!ls | grep output"
   ]
  }
 ],
 "metadata": {
  "kernelspec": {
   "display_name": "torch-1.9",
   "language": "python",
   "name": "torch-1.9"
  },
  "language_info": {
   "codemirror_mode": {
    "name": "ipython",
    "version": 3
   },
   "file_extension": ".py",
   "mimetype": "text/x-python",
   "name": "python",
   "nbconvert_exporter": "python",
   "pygments_lexer": "ipython3",
   "version": "3.8.13"
  }
 },
 "nbformat": 4,
 "nbformat_minor": 5
}
